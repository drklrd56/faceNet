{
  "nbformat": 4,
  "nbformat_minor": 0,
  "metadata": {
    "kernelspec": {
      "language": "python",
      "display_name": "Python 3",
      "name": "python3"
    },
    "language_info": {
      "pygments_lexer": "ipython3",
      "nbconvert_exporter": "python",
      "version": "3.6.4",
      "file_extension": ".py",
      "codemirror_mode": {
        "name": "ipython",
        "version": 3
      },
      "name": "python",
      "mimetype": "text/x-python"
    },
    "colab": {
      "name": "faceNet_project.ipynb",
      "provenance": [],
      "collapsed_sections": []
    },
    "accelerator": "GPU"
  },
  "cells": [
    {
      "cell_type": "markdown",
      "metadata": {
        "id": "2qBRhgJj1BBM",
        "colab_type": "text"
      },
      "source": [
        "# Mount and Extract "
      ]
    },
    {
      "cell_type": "code",
      "metadata": {
        "id": "e3YPbSjBYZ1l",
        "colab_type": "code",
        "outputId": "0ad4e392-c10f-4a50-e7b2-1fa7a6fb70c6",
        "colab": {
          "base_uri": "https://localhost:8080/",
          "height": 54
        }
      },
      "source": [
        "from google.colab import drive\n",
        "drive.mount('/content/drive')"
      ],
      "execution_count": 1,
      "outputs": [
        {
          "output_type": "stream",
          "text": [
            "Drive already mounted at /content/drive; to attempt to forcibly remount, call drive.mount(\"/content/drive\", force_remount=True).\n"
          ],
          "name": "stdout"
        }
      ]
    },
    {
      "cell_type": "code",
      "metadata": {
        "id": "6JXsLPD7UgRU",
        "colab_type": "code",
        "colab": {}
      },
      "source": [
        "#!unzip  \"/content/drive/My Drive/Colab Notebooks/lfw.zip\""
      ],
      "execution_count": 0,
      "outputs": []
    },
    {
      "cell_type": "code",
      "metadata": {
        "_uuid": "cc2f4fa6-84ca-4f5d-a324-fecad88c0d9a",
        "_cell_guid": "9b0e5da7-7054-4ce6-b95f-4c36ccaaa731",
        "trusted": true,
        "id": "ENooxiQHT5_U",
        "colab_type": "code",
        "colab": {}
      },
      "source": [
        "import os\n",
        "import math\n",
        "import torch\n",
        "import random\n",
        "import torchvision\n",
        "import numpy as np\n",
        "import pandas as pd\n",
        "import torch.nn as nn\n",
        "from PIL import Image\n",
        "import torch.optim as optim\n",
        "import torch.nn.functional as f\n",
        "import matplotlib.pyplot as plt\n",
        "import torchvision.transforms as transforms\n",
        "from torch.utils.data import DataLoader,Dataset"
      ],
      "execution_count": 0,
      "outputs": []
    },
    {
      "cell_type": "markdown",
      "metadata": {
        "id": "3Zt9ywjc1Kmt",
        "colab_type": "text"
      },
      "source": [
        "# FaceNet Model"
      ]
    },
    {
      "cell_type": "code",
      "metadata": {
        "trusted": true,
        "id": "L0UtPxr-T5_8",
        "colab_type": "code",
        "colab": {}
      },
      "source": [
        "class faceNet(nn.Module):\n",
        "    def __init__(self):\n",
        "        super(faceNet, self).__init__()\n",
        "        #conv1\n",
        "        self.layer1 = nn.Sequential(\n",
        "            \n",
        "            #inputSize = 220x220x3 outputSize= 110x110x64\n",
        "            nn.Conv2d(in_channels= 3, out_channels= 64, kernel_size= 7, stride= 2, padding= 3),\n",
        "            #inputSize = 110x110x64 outputSize= 55x55x64\n",
        "            nn.MaxPool2d(kernel_size= 3, stride= 2, padding= 1),\n",
        "            nn.BatchNorm2d(num_features= 64, eps= 0.00001), #assume rnorm is batchNorm\n",
        "        )\n",
        "        #conv2\n",
        "        self.layer2 = nn.Sequential(    \n",
        "            #inputSize = 55x55x64 outputSize= 55x55x64\n",
        "            nn.Conv2d(in_channels= 64, out_channels= 64, kernel_size= 1, stride= 1, padding= 0),\n",
        "            #inputSize = 55x55x64 outputSize= 55x55x192\n",
        "            nn.Conv2d(in_channels= 64, out_channels= 192, kernel_size= 3, stride= 1, padding= 1),\n",
        "            nn.BatchNorm2d(num_features= 192, eps= 0.00001), #assume rnorm is batchNorm\n",
        "            #inputSize = 55x55x192 outputSize= 28x28x192\n",
        "            nn.MaxPool2d(kernel_size= 3, stride= 2, padding= 1),\n",
        "        )\n",
        "        #conv3\n",
        "        self.layer3 = nn.Sequential(    \n",
        "            #inputSize = 28x28x192 outputSize= 28x28x192\n",
        "            nn.Conv2d(in_channels= 192, out_channels= 192, kernel_size= 1, stride= 1, padding= 0),\n",
        "            #inputSize = 28x28x192 outputSize= 28x28x384\n",
        "            nn.Conv2d(in_channels= 192, out_channels= 384, kernel_size= 3, stride= 1, padding= 1),\n",
        "            #inputSize = 28x28x384 outputSize= 14x14x384\n",
        "            nn.MaxPool2d(kernel_size= 3, stride= 2, padding= 1),\n",
        "        )\n",
        "        #conv4\n",
        "        self.layer4 = nn.Sequential(    \n",
        "            #inputSize = 14x14x384 outputSize= 14x14x384\n",
        "            nn.Conv2d(in_channels= 384, out_channels= 384, kernel_size= 1, stride= 1, padding= 0),\n",
        "            #inputSize = 14x14x384 outputSize= 14x14x256\n",
        "            nn.Conv2d(in_channels= 384, out_channels= 256, kernel_size= 3, stride= 1, padding= 1),\n",
        "        )\n",
        "        #conv5\n",
        "        self.layer5 = nn.Sequential(    \n",
        "            #inputSize = 14x14x256 outputSize= 14x14x256\n",
        "            nn.Conv2d(in_channels= 256, out_channels= 256, kernel_size= 1, stride= 1, padding= 0),\n",
        "            #inputSize = 14x14x256 outputSize= 14x14x256\n",
        "            nn.Conv2d(in_channels= 256, out_channels= 256, kernel_size= 3, stride= 1, padding= 1),\n",
        "        ) \n",
        "        #conv6\n",
        "        self.layer6 = nn.Sequential(        \n",
        "            #inputSize = 14x14x256 outputSize= 14x14x256\n",
        "            nn.Conv2d(in_channels= 256, out_channels= 256, kernel_size= 1, stride= 1, padding= 0),\n",
        "            #inputSize = 14x14x256 outputSize= 14x14x256\n",
        "            nn.Conv2d(in_channels= 256, out_channels= 256, kernel_size= 3, stride= 1, padding= 1),\n",
        "            #inputSize = 14x14x256 outputSize= 7x7x256\n",
        "            nn.MaxPool2d(kernel_size= 3, stride= 2, padding= 1),\n",
        "        )\n",
        "        self.FClayer = nn.Sequential(    \n",
        "            #inputSize = 7x7x256 outputSize= 12544\n",
        "            nn.Flatten(),\n",
        "            nn.Linear(7*7*256,32*128),\n",
        "            nn.Linear(32*128,32*128),\n",
        "            nn.Linear(32*128,128),\n",
        "        )\n",
        "    def forward(self,X):\n",
        "        Y = self.layer1(X)\n",
        "        Y = self.layer2(Y)\n",
        "        Y = self.layer3(Y)\n",
        "        Y = self.layer4(Y)\n",
        "        Y = self.layer5(Y)\n",
        "        Y = self.layer6(Y)\n",
        "        Y = self.FClayer(Y)\n",
        "        Y = f.normalize(Y)\n",
        "        return Y\n",
        "        "
      ],
      "execution_count": 0,
      "outputs": []
    },
    {
      "cell_type": "markdown",
      "metadata": {
        "id": "f4eXPmuk1RwF",
        "colab_type": "text"
      },
      "source": [
        "# Loss Function"
      ]
    },
    {
      "cell_type": "code",
      "metadata": {
        "trusted": true,
        "id": "oiIfZClBT6AJ",
        "colab_type": "code",
        "colab": {}
      },
      "source": [
        "def triplet_loss(anchor, positive, negative, margin= 0.2):\n",
        "    \"\"\"Build the triplet loss over a batch of embeddings.\n",
        "    For each anchor, we get the hardest positive and hardest negative to form a triplet.\n",
        "    Args:\n",
        "        anchor,positive,negative: tensor of shape [batch_size, 128]\n",
        "        margin: margin for triplet loss\n",
        "    Returns:\n",
        "        loss: scalar tensor containing the triplet loss\n",
        "    \"\"\"\n",
        "\n",
        "    # Compute the (encoding) distance between the anchor and the positive\n",
        "    distance_positive = (anchor - positive).pow(2).sum(1)\n",
        "    \n",
        "    # Compute the (encoding) distance between the anchor and the negative\n",
        "    distance_negative = (anchor - negative).pow(2).sum(1)\n",
        "    \n",
        "    # subtract the two previous distances and add alpha.\n",
        "    losses = f.relu(distance_positive - distance_negative + margin)\n",
        "\n",
        "    return losses.mean()"
      ],
      "execution_count": 0,
      "outputs": []
    },
    {
      "cell_type": "code",
      "metadata": {
        "_uuid": "2382af4e-25e1-4b04-a8a3-c00947094502",
        "_cell_guid": "5ca6c27f-1de3-4c62-a922-1f5ab73ab664",
        "trusted": true,
        "id": "NOjnKLbeT6Ai",
        "colab_type": "code",
        "outputId": "1aa4b9b1-7a7d-4138-e2ca-ec28ffb759fd",
        "colab": {
          "base_uri": "https://localhost:8080/",
          "height": 34
        }
      },
      "source": [
        "device = torch.device(\"cuda:0\" if torch.cuda.is_available() else \"cpu\")\n",
        "print(device)\n",
        "model = faceNet()\n",
        "model = model.float()\n",
        "model = model.to(device)\n",
        "optimizer = optim.Adam(model.parameters(), lr=1e-5)"
      ],
      "execution_count": 6,
      "outputs": [
        {
          "output_type": "stream",
          "text": [
            "cuda:0\n"
          ],
          "name": "stdout"
        }
      ]
    },
    {
      "cell_type": "markdown",
      "metadata": {
        "id": "yomg4B-L1WTz",
        "colab_type": "text"
      },
      "source": [
        "# Dataset Classes"
      ]
    },
    {
      "cell_type": "code",
      "metadata": {
        "id": "vLlqDhPtuyW-",
        "colab_type": "code",
        "colab": {}
      },
      "source": [
        "root_dir = \"/content/lfw-deepfunneled/lfw-deepfunneled/\"\n",
        "csv_dir = \"/content/lfw_allnames.csv\"  # name , imageCount(images)"
      ],
      "execution_count": 0,
      "outputs": []
    },
    {
      "cell_type": "code",
      "metadata": {
        "id": "mw5H56g2ok1s",
        "colab_type": "code",
        "colab": {}
      },
      "source": [
        "class Triplet(Dataset):\n",
        "    def __init__(self, train_set, transform = None):\n",
        "        self.transform = transform\n",
        "        temp = train_set.groupby(['name']).image_path.apply(lambda x: list(x.values)).reset_index()\n",
        "        self._generate_triplets(temp['name'],temp.index, temp['image_path'])\n",
        "        del temp\n",
        "    \n",
        "    def _generate_triplets(self,names, labels, image_paths): #Ids, classes:\n",
        "        self.triplets = []\n",
        "        num_labels = len(labels)\n",
        "        for i in range(num_labels):\n",
        "            #select anchor image and positive image\n",
        "            \n",
        "            # select a label at random to be the positive class\n",
        "            positive_label = np.random.choice(labels) \n",
        "            while len(image_paths[positive_label]) < 2:\n",
        "                # repeat until a class with more than 1 image is found\n",
        "                positive_label = np.random.choice(labels) \n",
        "            \n",
        "            #select a random image to be the anchor from the selected class\n",
        "            anchor = np.random.randint(0, len(image_paths[positive_label]))\n",
        "            #select a random image to be the positive from the selected class\n",
        "            postive = np.random.randint(0, len(image_paths[positive_label]))\n",
        "            # make sure that anchor and positive are the same image\n",
        "            while anchor == postive:\n",
        "                postive = np.random.randint(0, len(image_paths[positive_label]))\n",
        "\n",
        "            #selecting negative image\n",
        "            \n",
        "            # select a label at random to be the negative class\n",
        "            negative_label = np.random.choice(labels)\n",
        "            # make sure that negative image label is not the same as anchor,positive\n",
        "            while positive_label == negative_label:\n",
        "                negative_label = np.random.choice(labels)\n",
        "                \n",
        "            negative = np.random.randint(0, len(image_paths[negative_label]))\n",
        "            \n",
        "            self.triplets.append([image_paths[positive_label][anchor], image_paths[positive_label][postive],\n",
        "                                  image_paths[negative_label][negative], names[positive_label], names[negative_label]])\n",
        "    \n",
        "    def read_image(self, imgName, img_dim = 220):\n",
        "        path = root_dir + str(imgName)\n",
        "        im = Image.open(path)\n",
        "        width, height = im.size   # Get dimensions\n",
        "        left = (width - img_dim)/2\n",
        "        top = (height - img_dim)/2\n",
        "        right = (width + img_dim)/2\n",
        "        bottom = (height + img_dim)/2\n",
        "        im = im.crop((left, top, right, bottom))\n",
        "        return np.array(im)\n",
        "\n",
        "    def __len__(self):\n",
        "        return len(self.triplets)\n",
        "        \n",
        "    def __getitem__(self, idx):\n",
        "        \n",
        "        anchor, positive, negative, pos_name, neg_name = self.triplets[idx]\n",
        "        if self.transform:\n",
        "            anchor = self.transform(self.read_image(anchor))\n",
        "            positive = self.transform(self.read_image(positive))\n",
        "            negative = self.transform(self.read_image(negative))\n",
        "            \n",
        "        sample = {'anchor': anchor, 'positive': positive, 'negative': negative,\n",
        "                  'positive_name': pos_name, 'negative_name': neg_name}\n",
        "   \n",
        "        return sample\n",
        "\n"
      ],
      "execution_count": 0,
      "outputs": []
    },
    {
      "cell_type": "code",
      "metadata": {
        "id": "vYSkvXokveZM",
        "colab_type": "code",
        "colab": {}
      },
      "source": [
        "class LFWDataset(Dataset):\n",
        "    def __init__(self, transform= None, train= True):\n",
        "        self.train = train\n",
        "        self.transform = transform\n",
        "        self.train_set,self.test_set = self.train_test_split()\n",
        "        \n",
        "    def train_test_split(self):\n",
        "        \n",
        "        # copied from kaggle\n",
        "        train_set = pd.read_csv(csv_dir)\n",
        "        train_set = train_set.loc[train_set.index.repeat(train_set['images'])]\n",
        "        train_set['image_path'] = 1 + train_set.groupby('name').cumcount()\n",
        "        train_set['image_path'] = train_set.image_path.apply(lambda x: '{0:0>4}'.format(x))\n",
        "        train_set['image_path'] = train_set.name + \"/\" + train_set.name + \"_\" + train_set.image_path + \".jpg\"\n",
        "        # end \n",
        "        \n",
        "        temp = train_set.where(train_set['images'] >= 2).dropna()\n",
        "        random_class = random.sample(range(temp.index[0], temp.index[-1]), 10)\n",
        "        test_set = pd.DataFrame(columns= train_set.columns)\n",
        "        for i in random_class:\n",
        "          index = temp.index[i]\n",
        "          x = temp[temp.index == index]\n",
        "          x = x.dropna()\n",
        "          test_set = test_set.append(x, ignore_index = True)\n",
        "          del x\n",
        "        del temp\n",
        "        train_set = pd.merge(train_set,test_set, indicator=True, how='outer').query('_merge==\"left_only\"').drop('_merge', axis=1)\n",
        "        train_set = train_set.drop(['images'], axis= 1).reset_index().drop(['index'], axis= 1) \n",
        "        test_set = test_set.drop(['images'], axis= 1).reset_index().drop(['index'], axis= 1) \n",
        "        return train_set, test_set\n",
        "    \n",
        "    def read_image(self, imgName, img_dim = 220):\n",
        "        path = root_dir + str(imgName)\n",
        "        im = Image.open(path)\n",
        "        width, height = im.size   # Get dimensions\n",
        "        left = (width - img_dim)/2\n",
        "        top = (height - img_dim)/2\n",
        "        right = (width + img_dim)/2\n",
        "        bottom = (height + img_dim)/2\n",
        "        im = im.crop((left, top, right, bottom))\n",
        "        return np.array(im)\n",
        "\n",
        "    def __len__(self):\n",
        "        if self.train == True:\n",
        "            return len(self.train_set)\n",
        "        else:\n",
        "            return len(self.test_set)\n",
        "    \n",
        "    def __getitem__(self, idx):\n",
        "        if self.train == True:\n",
        "          image = self.read_image(self.train_set.iloc[idx]['image_path'])\n",
        "          if self.transform:\n",
        "              image = self.transform(image)\n",
        "            \n",
        "          sample = {'image': image, 'name': self.train_set.iloc[idx]['name']}\n",
        "\n",
        "        else:\n",
        "            image = self.read_image(self.test_set.iloc[idx]['image_path'])\n",
        "            if self.transform:\n",
        "                image = self.transform(image)\n",
        "            \n",
        "            sample = {'image': image, 'name': self.test_set.iloc[idx]['name']}\n",
        "        return sample\n"
      ],
      "execution_count": 0,
      "outputs": []
    },
    {
      "cell_type": "code",
      "metadata": {
        "trusted": true,
        "id": "_uDIBs8AT6AX",
        "colab_type": "code",
        "colab": {}
      },
      "source": [
        "image_transform = transforms.Compose([\n",
        "            transforms.ToPILImage(),\n",
        "            transforms.ToTensor(),\n",
        "            transforms.Normalize(mean = [0.5, 0.5, 0.5], std = [0.5, 0.5, 0.5])])\n",
        "dataset = LFWDataset(transform = image_transform, train= True, )\n",
        "triplets = Triplet(dataset.train_set, transform= image_transform )\n",
        "data_loader = DataLoader(dataset, batch_size=64, shuffle=True, num_workers=1)\n",
        "triplet_loader = DataLoader(triplets, batch_size=64, shuffle=True, num_workers=1)"
      ],
      "execution_count": 0,
      "outputs": []
    },
    {
      "cell_type": "markdown",
      "metadata": {
        "id": "ByGsAOFF1fQV",
        "colab_type": "text"
      },
      "source": [
        "# Train"
      ]
    },
    {
      "cell_type": "code",
      "metadata": {
        "_uuid": "791847ae-8157-4c51-91b5-f21dc7b3a41c",
        "_cell_guid": "dd6280ef-5869-46a9-b8aa-d8c7ae1ce923",
        "trusted": true,
        "id": "_5c0m2-fT6Au",
        "colab_type": "code",
        "outputId": "f049e988-ade6-4d01-d120-491b9a4e962c",
        "colab": {
          "base_uri": "https://localhost:8080/",
          "height": 51
        }
      },
      "source": [
        "dataset.train = 0 \n",
        "model = model.train()\n",
        "torch.cuda.empty_cache()\n",
        "loss_arr = []\n",
        "idx = 0 \n",
        "total_loss = 0\n",
        "for epoch in range(10):  \n",
        "    for i, batch in enumerate(triplet_loader):\n",
        "        # zero the parameter gradients\n",
        "        optimizer.zero_grad()\n",
        "        anchor, positive, negative = batch['anchor'],batch['positive'],batch['negative']\n",
        "        anchor, positive, negative = anchor.to(device), positive.to(device), negative.to(device)\n",
        "        anchor, positive, negative = model(anchor.float()), model(positive.float()), model(negative.float())\n",
        "        loss = triplet_loss(anchor, positive, negative, margin= 0.2)\n",
        "        loss.backward()\n",
        "        optimizer.step()\n",
        "        if(idx%100 == 0):\n",
        "            loss_arr.append([idx,loss])\n",
        "        total_loss += loss\n",
        "        idx += 1\n",
        "        del anchor\n",
        "        del positive\n",
        "        del negative\n",
        "    torch.cuda.empty_cache()\n",
        "    print('Epoch:{}, Loss:{}'.format(epoch+1, loss))\n",
        "print('Finished Training')"
      ],
      "execution_count": 11,
      "outputs": [
        {
          "output_type": "stream",
          "text": [
            "Epoch:10, Loss:0.003505938919261098\n",
            "Finished Training\n"
          ],
          "name": "stdout"
        }
      ]
    },
    {
      "cell_type": "markdown",
      "metadata": {
        "id": "EwFFIGeo1jhL",
        "colab_type": "text"
      },
      "source": [
        "# Loss Plot"
      ]
    },
    {
      "cell_type": "code",
      "metadata": {
        "trusted": true,
        "id": "wepUrSS3T6BW",
        "colab_type": "code",
        "outputId": "f157737b-512c-4ea7-bc3c-9ce7ade1f692",
        "colab": {
          "base_uri": "https://localhost:8080/",
          "height": 282
        }
      },
      "source": [
        "X = np.array([i for i,j in loss_arr])\n",
        "Y = np.array([j.cpu().detach().numpy() for i,j in loss_arr])\n",
        "plt.plot(X,Y)"
      ],
      "execution_count": 12,
      "outputs": [
        {
          "output_type": "execute_result",
          "data": {
            "text/plain": [
              "[<matplotlib.lines.Line2D at 0x7fc34d9d14a8>]"
            ]
          },
          "metadata": {
            "tags": []
          },
          "execution_count": 12
        },
        {
          "output_type": "display_data",
          "data": {
            "image/png": "[encoded data removed]",
            "text/plain": [
              "<Figure size 432x288 with 1 Axes>"
            ]
          },
          "metadata": {
            "tags": [],
            "needs_background": "light"
          }
        }
      ]
    },
    {
      "cell_type": "markdown",
      "metadata": {
        "id": "ZtfP1eym1m0a",
        "colab_type": "text"
      },
      "source": [
        "# Test train-set"
      ]
    },
    {
      "cell_type": "code",
      "metadata": {
        "id": "HmFeihUL2pjD",
        "colab_type": "code",
        "colab": {}
      },
      "source": [
        "def flatten(data, labels, images = None):\n",
        "  data_flatten = []\n",
        "  labels_flatten = []\n",
        "  for i in range(len(data)): #total  batches\n",
        "      for j in range(len(labels[i])): #batch size\n",
        "          data_flatten.append(data[i][j])\n",
        "          labels_flatten.append(labels[i][j])\n",
        "\n",
        "  return data_flatten,labels_flatten"
      ],
      "execution_count": 0,
      "outputs": []
    },
    {
      "cell_type": "code",
      "metadata": {
        "trusted": true,
        "id": "L_IVZnLXT6BC",
        "colab_type": "code",
        "colab": {}
      },
      "source": [
        "torch.save(model.state_dict(), \"/content/drive/My Drive/Colab Notebooks/ADAM2faceNet.pth\")"
      ],
      "execution_count": 0,
      "outputs": []
    },
    {
      "cell_type": "markdown",
      "metadata": {
        "id": "4oi6PjRlT6BA",
        "colab_type": "text"
      },
      "source": [
        "**Please restart the notebook after saving the model and then load the model if any GPU memory problems occurs from this point**\n",
        "\n",
        "* please restart the session and run from here \n",
        "* run all blocks uptil model training loop skip torch.save and FileLink blocks also\n",
        "* then upload the faceNet.pth file,if u closed the tab or restarted the session\n",
        "* start execution from here after uploading"
      ]
    },
    {
      "cell_type": "code",
      "metadata": {
        "id": "YCtylDx_E1LI",
        "colab_type": "code",
        "colab": {
          "base_uri": "https://localhost:8080/",
          "height": 34
        },
        "outputId": "c4662773-1121-4584-eb51-470e08335b8f"
      },
      "source": [
        "#model.load_state_dict(torch.load(\"/content/drive/My Drive/Colab Notebooks/ADAM2faceNet.pth\"))"
      ],
      "execution_count": 74,
      "outputs": [
        {
          "output_type": "execute_result",
          "data": {
            "text/plain": [
              "<All keys matched successfully>"
            ]
          },
          "metadata": {
            "tags": []
          },
          "execution_count": 74
        }
      ]
    },
    {
      "cell_type": "markdown",
      "metadata": {
        "id": "JKZJeZgr10WD",
        "colab_type": "text"
      },
      "source": [
        "# Model Training using KNN"
      ]
    },
    {
      "cell_type": "code",
      "metadata": {
        "trusted": true,
        "id": "0G7QkhX8T6BM",
        "colab_type": "code",
        "colab": {}
      },
      "source": [
        "model = model.eval()"
      ],
      "execution_count": 0,
      "outputs": []
    },
    {
      "cell_type": "code",
      "metadata": {
        "trusted": true,
        "id": "083t8iwaT6Bs",
        "colab_type": "code",
        "colab": {}
      },
      "source": [
        "dataset.train = False # shift to train mode\n",
        "test_encodings = []\n",
        "test_labels = []\n",
        "torch.cuda.empty_cache()\n",
        "for i,batch in enumerate(data_loader):\n",
        "    torch.cuda.empty_cache()\n",
        "    torch.no_grad()\n",
        "    image, label = batch['image'], batch['name']\n",
        "    image = image.to(device)\n",
        "    encoding = model(image.float()) \n",
        "    test_encodings.append(encoding.cpu().detach().numpy())\n",
        "    test_labels.append(label)\n",
        "    del encoding\n",
        "    del label\n",
        "    del image"
      ],
      "execution_count": 0,
      "outputs": []
    },
    {
      "cell_type": "code",
      "metadata": {
        "id": "N4S1k03SSXsL",
        "colab_type": "code",
        "colab": {
          "base_uri": "https://localhost:8080/",
          "height": 34
        },
        "outputId": "ce994e3e-296b-4e7c-ab68-ae0a039ef147"
      },
      "source": [
        "print(dataset.train_set.shape, dataset.test_set.shape)"
      ],
      "execution_count": 77,
      "outputs": [
        {
          "output_type": "stream",
          "text": [
            "(12346, 2) (887, 2)\n"
          ],
          "name": "stdout"
        }
      ]
    },
    {
      "cell_type": "code",
      "metadata": {
        "id": "Cn9muv4bFNTT",
        "colab_type": "code",
        "colab": {}
      },
      "source": [
        "encodings,labels = flatten(test_encodings,test_labels)\n",
        "del test_encodings\n",
        "del test_labels"
      ],
      "execution_count": 0,
      "outputs": []
    },
    {
      "cell_type": "code",
      "metadata": {
        "id": "wIk12dYssvue",
        "colab_type": "code",
        "colab": {}
      },
      "source": [
        "test_set = pd.DataFrame(list(zip(labels, encodings)), columns= [\"Label\",\"Encoding\"]) \n",
        "test_set = test_set.groupby(['Label']).Encoding.apply(lambda x: list(x.values)).reset_index()"
      ],
      "execution_count": 0,
      "outputs": []
    },
    {
      "cell_type": "code",
      "metadata": {
        "id": "oY-K5iqntVXe",
        "colab_type": "code",
        "colab": {}
      },
      "source": [
        "def train_test_split(test_set, split = 0.5):\n",
        "  Xtrain = []; Xtest = []; Ytrain = []; Ytest = []\n",
        "\n",
        "  for i in range(test_set.shape[0]):\n",
        "    encodings = test_set.iloc[i]['Encoding'] # image loc train  >=  image\n",
        "    label = test_set.iloc[i]['Label']\n",
        "    enc_len = len(encodings)\n",
        "    for j in range(enc_len):\n",
        "      if j <= int (enc_len * 0.5):\n",
        "        Xtrain.append(encodings[j])\n",
        "        Ytrain.append(label)\n",
        "      else:\n",
        "        Xtest.append(encodings[j])\n",
        "        Ytest.append(label)\n",
        "    \n",
        "  return np.array(Xtrain),np.array(Xtest),np.array(Ytrain),np.array(Ytest)"
      ],
      "execution_count": 0,
      "outputs": []
    },
    {
      "cell_type": "code",
      "metadata": {
        "trusted": true,
        "id": "K0TOkzp_T6Bg",
        "colab_type": "code",
        "colab": {}
      },
      "source": [
        "from sklearn.metrics.pairwise import euclidean_distances \n",
        "import scipy.stats as ss\n",
        "\n",
        "class KNearestNeighbor:\n",
        "    ''' Implements the KNearest Neigbours For Classification... ''' \n",
        "    def __init__(self, k, scalefeatures=False):\n",
        "        self.K=k\n",
        "\n",
        "    def train(self, X, Y):\n",
        "        nexamples,nfeatures=X.shape\n",
        "        self.X_train=X\n",
        "        self.Y_train=Y\n",
        "\n",
        "    def predict(self, X):\n",
        "        num_test = X.shape[0]\n",
        "        y_pred = np.zeros(self.K, dtype = self.Y_train.dtype)\n",
        "        pclass=[]\n",
        "        compute_distance = euclidean_distances(X, self.X_train)\n",
        "  \n",
        "        for x in range(num_test):\n",
        "            SortedDist=np.sort(compute_distance[x])\n",
        "            for y in range(self.K):\n",
        "                index=np.where(SortedDist[y] == compute_distance[x])\n",
        "                y_pred[y]=self.Y_train[index][0]\n",
        "            pclass.append(ss.mode(y_pred)[0][0])\n",
        "        return np.array(pclass)"
      ],
      "execution_count": 0,
      "outputs": []
    },
    {
      "cell_type": "code",
      "metadata": {
        "id": "h_OnPs87vUzP",
        "colab_type": "code",
        "colab": {}
      },
      "source": [
        "Xtrain,Xtest,Ytrain,Ytest = train_test_split(test_set)"
      ],
      "execution_count": 0,
      "outputs": []
    },
    {
      "cell_type": "code",
      "metadata": {
        "id": "2F0x5f6AzVJh",
        "colab_type": "code",
        "outputId": "9399cadf-86ba-4a3b-a2d3-d625ba3ed73c",
        "colab": {
          "base_uri": "https://localhost:8080/",
          "height": 34
        }
      },
      "source": [
        "print(Xtrain.shape,Ytrain.shape,Xtest.shape,Ytest.shape)"
      ],
      "execution_count": 83,
      "outputs": [
        {
          "output_type": "stream",
          "text": [
            "(451, 128) (451,) (436, 128) (436,)\n"
          ],
          "name": "stdout"
        }
      ]
    },
    {
      "cell_type": "code",
      "metadata": {
        "id": "jKPYQZUNYdTM",
        "colab_type": "code",
        "colab": {}
      },
      "source": [
        "KNN = KNearestNeighbor(k=3)\n",
        "KNN.train(Xtrain, Ytrain)"
      ],
      "execution_count": 0,
      "outputs": []
    },
    {
      "cell_type": "code",
      "metadata": {
        "id": "dOrsMbBlaFNT",
        "colab_type": "code",
        "colab": {}
      },
      "source": [
        "pred_train,pred_test = KNN.predict(Xtrain), KNN.predict(Xtest)"
      ],
      "execution_count": 0,
      "outputs": []
    },
    {
      "cell_type": "code",
      "metadata": {
        "id": "dfvpGUybfyLw",
        "colab_type": "code",
        "colab": {}
      },
      "source": [
        "#Lets find the accuracy on the test set.. \n",
        "total= Ytrain.shape[0]\n",
        "\n",
        "correct_train = incorrect_train = 0 \n",
        "correct_test = incorrect_test = 0\n",
        "\n",
        "for i in range(len(Ytest)):\n",
        "  if pred_test[i] == Ytest[i]:\n",
        "    correct_test += 1\n",
        "  else:\n",
        "    incorrect_test +=1\n",
        "\n",
        "for i in range(len(Ytrain)):\n",
        "  if pred_train[i] == Ytrain[i]:\n",
        "    correct_train += 1\n",
        "  else:\n",
        "    incorrect_train += 1\n",
        "\n",
        "  \n"
      ],
      "execution_count": 0,
      "outputs": []
    },
    {
      "cell_type": "code",
      "metadata": {
        "id": "yIyv2TbAYxV7",
        "colab_type": "code",
        "outputId": "0dbbb0fe-6580-46dc-ca16-4d90eb681bd9",
        "colab": {
          "base_uri": "https://localhost:8080/",
          "height": 136
        }
      },
      "source": [
        "\n",
        "print('Test Set Accuracy :')\n",
        "print(\"For Xtrain : \")\n",
        "print('Total correct : ',correct_train, 'Out of : ',len(Ytrain))\n",
        "print('Accuracy:', (correct_train/Ytrain.shape[0] ) * 100,\"%\")\n",
        "print(\"For Xtest : \")\n",
        "print('Total correct : ',correct_test, 'Out of : ',len(Ytest))\n",
        "print('Accuracy:', (correct_test/Ytest.shape[0] ) * 100,\"%\")"
      ],
      "execution_count": 87,
      "outputs": [
        {
          "output_type": "stream",
          "text": [
            "Test Set Accuracy :\n",
            "For Xtrain : \n",
            "Total correct :  398 Out of :  451\n",
            "Accuracy: 88.24833702882484 %\n",
            "For Xtest : \n",
            "Total correct :  352 Out of :  436\n",
            "Accuracy: 80.73394495412845 %\n"
          ],
          "name": "stdout"
        }
      ]
    }
  ]
}